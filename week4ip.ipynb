#WEEK FOUR INDEPENDENT PROJECT
#AUTOLIB ELECTRIC CAR COMPANY PYTHON ANALYSIS

Autolib is an electric car company.
This is a detailed python notebook analysis of the company's data from
from 1st April to 9th April 2018.


## Installation Requirements

You will need to have installed the latest version of goole chrome on your
PC and have logged into your gmail account and readuly access your drive.

```bash
install chrome
```
[chrome download](https://www.google.com/search?q=chrome+download&oq=chrome+dow&aqs=chrome.0.0j69i57j0l6.3684j0j7&sourceid=chrome&ie=UTF-8)

## Usage

```python
import autolib.csv
```

## Technologies used
Python 3 has been used to analyse the dataset obtained from the Autolib electric car company.
Pandas and numpy were mainly used in the analysis

##Support and contact details
For further inquiries feel free to reach me on cpaulineg@gmail.company

##License
[MIT](https://choosealicense.com/licenses/mit/)

## License
[MIT](https://choosealicense.com/licenses/mit/)
